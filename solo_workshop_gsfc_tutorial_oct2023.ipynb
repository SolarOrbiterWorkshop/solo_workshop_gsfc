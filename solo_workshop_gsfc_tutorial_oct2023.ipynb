{
 "cells": [
  {
   "cell_type": "markdown",
   "id": "3e86ae5b-a5f5-4142-8076-164af1c95076",
   "metadata": {},
   "source": [
    "# Solar Orbiter Workshop @GSFC\n",
    "### Oct 25 2023\n",
    "\n",
    "\n",
    "![title](./images/sunpy_logo.png)\n",
    "\n",
    "\n",
    "This notebook is to demonstrate how you can work with Solar Orbiter data with the SunPy ecosystem. \n",
    "It serves to demonstate how the SunPy Ecosystem allows you to easily work different types of data using the same set of tools.\n",
    "\n",
    "Here, I'll demonstrate how you can search for and download Solar Orbiter data. We'll also then look at an event analysis workflow for a large solar eruptive event that occured on Sept 5 2022 by both PSP and Solar Orbiter.\n",
    "\n",
    "\n",
    "\n",
    "Some useful links:\n",
    "\n",
    "* An introduction to SunPy https://docs.sunpy.org/en/stable/tutorial/index.html\n",
    "* Solar Orbiter Archive https://soar.esac.esa.int/soar/\n",
    "* Summary of SOOPs that have been run: https://www.cosmos.esa.int/web/solar-orbiter/soops-summary\n",
    "* Inventory plots of data on SOAR: https://www.cosmos.esa.int/web/soar/inventory-plots\n",
    "* STIX data center: https://datacenter.stix.i4ds.net/stix\n",
    "* EUI/SIDC Solar Eruption list: https://www.sidc.be/EUI/solar-eruptions\n",
    "* EPD data loader: https://github.com/jgieseler/solo-epd-loader\n"
   ]
  },
  {
   "cell_type": "code",
   "execution_count": null,
   "id": "715b45fc-1c22-4640-aa25-49b3c0ffc4f1",
   "metadata": {},
   "outputs": [],
   "source": [
    "import matplotlib.pyplot as plt\n",
    "from matplotlib import dates\n",
    "import numpy as np\n",
    "import pandas as pd\n",
    "from sunpy.net import Fido, attrs as a \n",
    "from sunpy.coordinates import frames, get_horizons_coord, get_body_heliographic_stonyhurst\n",
    "from sunpy.time import parse_time\n",
    "import sunpy.map\n",
    "import sunpy.timeseries\n",
    "import sunpy_soar\n",
    "from astropy import units as u \n",
    "from astropy.coordinates import SkyCoord\n",
    "from astropy.visualization import PowerStretch, AsinhStretch, LogStretch\n",
    "from astropy.wcs import WCS\n",
    "from astropy.visualization.mpl_normalize import ImageNormalize\n",
    "from astropy import constants as const\n",
    "from astropy.time import Time\n",
    "from reproject.mosaicking import reproject_and_coadd\n",
    "from reproject import reproject_interp\n",
    "import stixpy\n",
    "from stixpy.net.client import STIXClient \n",
    "import stixpy.timeseries"
   ]
  },
  {
   "cell_type": "code",
   "execution_count": null,
   "id": "eb765cc5-8f9b-48de-9f45-475c334c186a",
   "metadata": {},
   "outputs": [],
   "source": [
    "%matplotlib widget"
   ]
  },
  {
   "cell_type": "markdown",
   "id": "5c5a6416-773f-42e3-8dc9-86025c979489",
   "metadata": {},
   "source": [
    "# 1. How to access and download Solar Orbiter data"
   ]
  },
  {
   "cell_type": "markdown",
   "id": "74dd7ab8-596e-4fe0-8df2-7a9f76fa3b3f",
   "metadata": {},
   "source": [
    "## Overview of sunpy's Fido Unified Downloader\n",
    "Fido is sunpy's interface for searching and downloading solar physics data.\n",
    "It offers a unified interface for searching and fetching data irrespective of the underlying client or webservice from where the data is obtained.\n",
    "You can also search and accesses multiple instruments and all available data providers in a single query.\n",
    "It supplies a single, easy, consistent and extendable way to get most forms of solar physics data the community need.\n",
    "\n",
    "For more information about Fido and how to use it check out the documentation on our website: https://docs.sunpy.org/en/stable/tutorial/acquiring_data/index.html\n",
    "\n",
    "Fido offers access to data available through:\n",
    "\n",
    "* VSO\n",
    "* JSOC (through drms)\n",
    "* Individual data providers from web accessible sources (http, ftp, etc)\n",
    "* CDAWeb\n",
    "* HEK\n",
    "* HELIO\n",
    "  \n",
    "As described here Fido provides access to many sources of data through different clients, these clients can be defined inside sunpy or in other packages (e.g. DKIST data can be accessed using Fido through [DKIST User Tools](https://docs.dkist.nso.edu/projects/python-tools/en/latest/tutorial/2_search_and_asdf_download.html).\n"
   ]
  },
  {
   "cell_type": "markdown",
   "id": "309e46b3-2379-46a3-8cb1-12edb325fd43",
   "metadata": {},
   "source": [
    "#### Importantly, Solar Orbiter data can be accessed through the client defined in the `sunpy_soar` affiliated package. \n",
    "The SOAR client is registered once we install `sunpy_soar` above. Without installing it, it wont be registered within Fido.\n",
    "\n",
    "Lets first inspect the clients that are available through Fido:"
   ]
  },
  {
   "cell_type": "code",
   "execution_count": null,
   "id": "49923347-0803-4fec-a450-827baf36e7fa",
   "metadata": {},
   "outputs": [],
   "source": [
    "Fido"
   ]
  },
  {
   "cell_type": "markdown",
   "id": "6e4288a7-48ad-404d-8735-ba1216c811c1",
   "metadata": {},
   "source": [
    "Lets inspect what instrument and clients providers are available through Fido. "
   ]
  },
  {
   "cell_type": "code",
   "execution_count": null,
   "id": "5f50892b-29fa-4b10-be2a-953c5b2716d9",
   "metadata": {},
   "outputs": [],
   "source": [
    "a.Provider"
   ]
  },
  {
   "cell_type": "markdown",
   "id": "fd740761-1009-453a-887d-48c0a0be4a65",
   "metadata": {},
   "source": [
    "There are also Solar Orbiter specific attributes that are registered when we import `sunpy_soar`, such as `a.soar.Product`, and `a.soar.SOOP` (Solar Orbiter Observing Plan).\n",
    "\n",
    "What this allows you to do is to construct a query based on these attributes, for example, a specific data product during a specific SOOP etc."
   ]
  },
  {
   "cell_type": "code",
   "execution_count": null,
   "id": "ca364947-3c3a-4980-bd65-15507d535093",
   "metadata": {},
   "outputs": [],
   "source": [
    "a.soar.Product"
   ]
  },
  {
   "cell_type": "code",
   "execution_count": null,
   "id": "9d589899-08e9-4a99-af09-0583ce16a7b3",
   "metadata": {},
   "outputs": [],
   "source": [
    "a.soar.SOOP"
   ]
  },
  {
   "cell_type": "markdown",
   "id": "c0a5a134-0ac9-4f01-bf7a-86f12ab6a0ac",
   "metadata": {},
   "source": [
    "## Lets construct a query\n",
    "\n",
    "To search for data with Fido, you need to specify attributes to search with. These are usually a timerange (`a.Time`), and an instrument (`a.Instrument`). But you can also add lots of different attributes to make your query more specific. It should also be noted that Fido will return all possible results given the conditions of your query, so for example, if two data providers host the same data, it will return two results (for example the VSO provides the EUI data as well as the SOAR). You can also specifiy the provider you want to search for in your query."
   ]
  },
  {
   "cell_type": "markdown",
   "id": "ae394906-8a94-4e57-8499-4ebbc0634c69",
   "metadata": {},
   "source": [
    "Let's search for EUI data over a timerange"
   ]
  },
  {
   "cell_type": "code",
   "execution_count": null,
   "id": "108d5e37-0411-42b5-89bc-d2a86d0c2d0f",
   "metadata": {},
   "outputs": [],
   "source": [
    "res_eui = Fido.search(a.Time(\"2022-03-25\", \"2022-03-26\"), \n",
    "                      a.Instrument(\"EUI\"), \n",
    "                      a.Provider.soar)"
   ]
  },
  {
   "cell_type": "markdown",
   "id": "4a4c3b04-638a-4c92-9a7a-0b37198e0076",
   "metadata": {},
   "source": [
    "this returns an [`UnifiedResponse`](https://docs.sunpy.org/en/stable/generated/api/sunpy.net.fido_factory.UnifiedResponse.html#sunpy.net.fido_factory.UnifiedResponse) object (like a table) containing all the search results that match the search attributes. We haven't downloaded anything here, we've just found the results of the query. Lets inspect the table and see whats there:"
   ]
  },
  {
   "cell_type": "code",
   "execution_count": null,
   "id": "c3a909dc-effb-4e9a-801d-8bd3e727bca9",
   "metadata": {},
   "outputs": [],
   "source": [
    "res_eui"
   ]
  },
  {
   "cell_type": "markdown",
   "id": "1ac2eaf0-50bb-4355-a3ef-d3ec3920dfbe",
   "metadata": {},
   "source": [
    "We can also construct a query to search for SWA data (i.e. in-situ data). We can also specific the level data that we want, here Level 2 data. \n",
    "\n",
    "(Note that there's no SOOP name associated in the returned table - thats because the in-situ data products do not have this tied to their data)"
   ]
  },
  {
   "cell_type": "code",
   "execution_count": null,
   "id": "70583165-b38f-4209-a4f0-2fcb98324d92",
   "metadata": {},
   "outputs": [],
   "source": [
    "res_swa = Fido.search(a.Time(\"2022-03-25\", \"2022-03-26\"), \n",
    "                      a.Instrument(\"SWA\"), \n",
    "                      a.Level(2), a.Provider.soar)"
   ]
  },
  {
   "cell_type": "code",
   "execution_count": null,
   "id": "3f9cc5a9-94d0-4262-b766-58867761396e",
   "metadata": {},
   "outputs": [],
   "source": [
    "res_swa"
   ]
  },
  {
   "cell_type": "markdown",
   "id": "b2cfc6b5-0667-4a82-a444-10bd6ebf26b4",
   "metadata": {},
   "source": [
    "Say for example, instead we're just interested in data from a particular SOOP. Checkout the [SOOP summary page](https://www.cosmos.esa.int/web/solar-orbiter/soops-summary) for more details.\n",
    "Lets search for the coronal dynamics SOOP, which focuses on observing structures in the outer corona and linking them to the heliosphere observed in-situ."
   ]
  },
  {
   "cell_type": "code",
   "execution_count": null,
   "id": "73e72f9b-0f26-47d2-9397-254c3d2b6959",
   "metadata": {},
   "outputs": [],
   "source": [
    "res_soop = Fido.search(a.Time(\"2022-03-25\", \"2022-03-25 01:00\"), \n",
    "                  a.soar.SOOP.l_full_hres_hcad_coronal_dynamics, \n",
    "                  a.Provider.soar)"
   ]
  },
  {
   "cell_type": "code",
   "execution_count": null,
   "id": "1f31e882-1387-4dac-ade9-6b24831eed07",
   "metadata": {},
   "outputs": [],
   "source": [
    "res_soop"
   ]
  },
  {
   "cell_type": "markdown",
   "id": "a6d703a0-148b-479c-b9f3-8e5bbf9fc6f3",
   "metadata": {},
   "source": [
    "We can also search for all data available from the SOAR between two times"
   ]
  },
  {
   "cell_type": "code",
   "execution_count": null,
   "id": "7a7a9532-af3a-4aca-87d5-40da9b6a5863",
   "metadata": {},
   "outputs": [],
   "source": [
    "res_all_solo_timerange = Fido.search(a.Time(\"2022-03-25\", \"2022-03-25 01:00\"), \n",
    "                                     a.Provider.soar)"
   ]
  },
  {
   "cell_type": "code",
   "execution_count": null,
   "id": "6fb9b494-925f-4932-8b42-fdd79d8ecbe7",
   "metadata": {},
   "outputs": [],
   "source": [
    "res_all_solo_timerange"
   ]
  },
  {
   "cell_type": "markdown",
   "id": "326ea6e7-5fef-49d3-9d35-9b014aed433b",
   "metadata": {},
   "source": [
    "We still have not downloaded any data. Lets narrow our search, and only search for EUI L2 data during this SOOP over a short timerange:"
   ]
  },
  {
   "cell_type": "code",
   "execution_count": null,
   "id": "d6bf62bc-3bc3-4891-b57a-f4e20ea73717",
   "metadata": {},
   "outputs": [],
   "source": [
    "res_eui_soop = Fido.search(a.Time(\"2022-03-25\", \"2022-03-25 01:00\"), \n",
    "                           a.soar.SOOP.l_full_hres_hcad_coronal_dynamics, \n",
    "                           a.Level(2), a.Provider.soar, a.Instrument(\"EUI\"))"
   ]
  },
  {
   "cell_type": "code",
   "execution_count": null,
   "id": "39ab35f9-7965-4ae1-8ce9-1c6ccc1cd75a",
   "metadata": {},
   "outputs": [],
   "source": [
    "res_eui_soop"
   ]
  },
  {
   "cell_type": "markdown",
   "id": "35c26d65-ff48-4bc2-b98c-3dcb927930f4",
   "metadata": {},
   "source": [
    "You can also index the table too."
   ]
  },
  {
   "cell_type": "code",
   "execution_count": null,
   "id": "e4c3f612-2f52-4fe5-8437-094cf6d9ba75",
   "metadata": {},
   "outputs": [],
   "source": [
    "res_eui_soop[0][2]"
   ]
  },
  {
   "cell_type": "markdown",
   "id": "c61771a2-19e5-428e-b684-0473f9f718dc",
   "metadata": {},
   "source": [
    "### Then to download the files, you can use `Fido.fetch`\n",
    "\n",
    "Now that we have located the files were interested in via a `Fido.search`, we can download them via `Fido.fetch`.\n",
    "You pass your query results from `Fido.search` to the `.fetch`. You can also specifiy the path for which to save them locally. Here lets just save them in our current working directory. If you do not pass anything it will save them location set in the sunpy config file."
   ]
  },
  {
   "cell_type": "code",
   "execution_count": null,
   "id": "d51f3c7e-df60-4fbb-b039-b68ee18411a0",
   "metadata": {},
   "outputs": [],
   "source": [
    "files = Fido.fetch(res_eui_soop, path=\"./\")"
   ]
  },
  {
   "cell_type": "code",
   "execution_count": null,
   "id": "0a9d7a1c-51f6-45d6-b62e-6718ecdf705a",
   "metadata": {},
   "outputs": [],
   "source": [
    "files[0]"
   ]
  },
  {
   "cell_type": "markdown",
   "id": "b1023892-6f9f-48b8-9f3c-1a1d756a9332",
   "metadata": {},
   "source": [
    "### You can then read this data into a sunpy.map.Map\n",
    "Now that we have downloaded the EUI data, we can load it directly into a sunpy [`Map`](https://docs.sunpy.org/en/stable/generated/api/sunpy.map.Map.html#sunpy.map.Map).\n",
    "You can just pass the fits file. \n",
    "\n",
    "To learn more about sunpy maps, you can check out the sunpy tutorial on our docs [here](https://docs.sunpy.org/en/stable/tutorial/maps.html)"
   ]
  },
  {
   "cell_type": "code",
   "execution_count": null,
   "id": "92775b38-c239-43e7-a3b5-3e03bcf2e068",
   "metadata": {},
   "outputs": [],
   "source": [
    "eui_map = sunpy.map.Map(files[0])"
   ]
  },
  {
   "cell_type": "code",
   "execution_count": null,
   "id": "6ddd62d2-4214-4858-8218-ebd3d7a55bbf",
   "metadata": {},
   "outputs": [],
   "source": [
    "fig = plt.figure()\n",
    "eui_map.plot()"
   ]
  },
  {
   "cell_type": "markdown",
   "id": "e476e62b-c356-438a-a4db-ef31f53e4638",
   "metadata": {},
   "source": [
    "Lets also have a quick look at downloading some in-situ data and loading it into a sunpy [`TimeSeries`](https://docs.sunpy.org/en/stable/tutorial/timeseries.html)."
   ]
  },
  {
   "cell_type": "code",
   "execution_count": null,
   "id": "fa54b2d8-032a-4191-88a8-6c0df2fb29c7",
   "metadata": {},
   "outputs": [],
   "source": [
    "res_mag = Fido.search(a.Time(\"2022-03-25\", \"2022-03-25 23:00\"),\n",
    "                      a.Instrument.mag, \n",
    "                      a.soar.Product('mag-rtn-normal-1-minute'), \n",
    "                      a.Level(2))"
   ]
  },
  {
   "cell_type": "code",
   "execution_count": null,
   "id": "22f7ec5b-0b73-4833-ba34-2b76575ae6ae",
   "metadata": {},
   "outputs": [],
   "source": [
    "mag_files = Fido.fetch(res_mag, path=\"./\")"
   ]
  },
  {
   "cell_type": "code",
   "execution_count": null,
   "id": "fcf43376-be6c-4c62-934c-a5e4272a30e4",
   "metadata": {},
   "outputs": [],
   "source": [
    "mag_data = sunpy.timeseries.TimeSeries(mag_files)"
   ]
  },
  {
   "cell_type": "code",
   "execution_count": null,
   "id": "8698fcae-1018-4ac3-aaa0-cc963273e6ab",
   "metadata": {},
   "outputs": [],
   "source": [
    "fig = plt.figure()\n",
    "mag_data.plot(columns=[\"B_RTN_0\", \"B_RTN_1\", \"B_RTN_2\"])"
   ]
  },
  {
   "cell_type": "markdown",
   "id": "41b9abbc-9f48-48bc-8a56-fcd4d442fe6b",
   "metadata": {},
   "source": [
    "# Accessing data from the CDAWeb with sunpy - which is very helpful for in-situ data\n",
    "\n",
    "There is also a CDAWeb client within sunpy. CDAWeb data can be accessed when the `cdaweb.Dataset` attribute is provided to the search.\n",
    "\n",
    "The data available from the SOAR is also available from the CDAWeb. You may be used to working with this (especially if you mainly work with in-situ observations), so lets go through how the data can also be accessed this way. This is handy, as you can also access many other in-situ measurements from this too."
   ]
  },
  {
   "cell_type": "code",
   "execution_count": null,
   "id": "e6524d52-85a9-4e78-8c8a-847753bf42f3",
   "metadata": {},
   "outputs": [],
   "source": [
    "a.cdaweb.Dataset"
   ]
  },
  {
   "cell_type": "code",
   "execution_count": null,
   "id": "e9f27fe3-d124-427c-8d84-17d307a22c4b",
   "metadata": {},
   "outputs": [],
   "source": [
    "res_cdaw = Fido.search(a.Time(\"2022-03-25\", \"2022-03-26\"), \n",
    "                       a.cdaweb.Dataset('SOLO_L2_MAG-RTN-NORMAL-1-MINUTE'))"
   ]
  },
  {
   "cell_type": "code",
   "execution_count": null,
   "id": "e8968f22-83fe-411e-903a-5517b7b7de8a",
   "metadata": {},
   "outputs": [],
   "source": [
    "res_cdaw"
   ]
  },
  {
   "cell_type": "code",
   "execution_count": null,
   "id": "1e2d835b-b639-464b-bb75-fa15033fb423",
   "metadata": {},
   "outputs": [],
   "source": [
    "solo_mag_file = Fido.fetch(res_cdaw, path=\"./\")"
   ]
  },
  {
   "cell_type": "code",
   "execution_count": null,
   "id": "862402c0-3963-49c8-a2f5-0e759da79aad",
   "metadata": {},
   "outputs": [],
   "source": [
    "solo_mag_ts = sunpy.timeseries.TimeSeries(solo_mag_file)"
   ]
  },
  {
   "cell_type": "code",
   "execution_count": null,
   "id": "9ae0a2b4-9055-4e0f-8c2e-976912fe9219",
   "metadata": {},
   "outputs": [],
   "source": [
    "fig = plt.figure()\n",
    "solo_mag_ts.plot(columns=[\"B_RTN_0\", \"B_RTN_1\", \"B_RTN_2\"])"
   ]
  },
  {
   "cell_type": "markdown",
   "id": "edc86cf3-fd94-46d3-ad53-199da38b1116",
   "metadata": {},
   "source": [
    "# 2. Scientific Workflow within the SunPy Ecosystem\n",
    "\n",
    "Lets do an event study with Solar Orbiter and PSP observations to demonstrate a workflow of using the SunPy ecosystem to perform this analysis.\n",
    "\n",
    "We'll choose a lage eruptive event that occured last September on the backside of the disk as seen from Earth."
   ]
  },
  {
   "cell_type": "code",
   "execution_count": null,
   "id": "2f799cc5-3e89-4e91-b2f6-4dd762e08636",
   "metadata": {},
   "outputs": [],
   "source": [
    "tstart = parse_time(\"2022-09-05 14:30\")\n",
    "tend = parse_time(\"2022-09-05 21:30\")"
   ]
  },
  {
   "cell_type": "markdown",
   "id": "85692be0-c70e-4a7d-9081-48f65dcd463e",
   "metadata": {},
   "source": [
    "#### Lets first get the positions  of the spacecraft \n",
    "\n",
    "To get the position of the spacecraft to get an overview of where they were with respect to each other, we can use the `get_horizons_coord` function within `sunpy.coordinates` which queries JPL horizons for solar system bodies. Note that there are probably other situations for when you want the info from SPICE kernals - this is something you can do with the [astrospice](https://astrospice.readthedocs.io/en/stable/) package (and soon within sunpy). But for what we need here, the JPL Horizons query will do! "
   ]
  },
  {
   "cell_type": "code",
   "execution_count": null,
   "id": "5a86793e-4cd0-4f2f-b1fb-880a5dfa0f61",
   "metadata": {},
   "outputs": [],
   "source": [
    "solo_coord = get_horizons_coord(\"solo\", tstart)\n",
    "psp_coord =  get_horizons_coord(\"psp\", tstart)\n",
    "earth_coord =  get_body_heliographic_stonyhurst(\"earth\", tstart)"
   ]
  },
  {
   "cell_type": "code",
   "execution_count": null,
   "id": "ad6c41f8-368a-4b77-ac79-ce8abef0dce0",
   "metadata": {},
   "outputs": [],
   "source": [
    "fig = plt.figure()\n",
    "ax = fig.add_subplot(projection=\"polar\")\n",
    "\n",
    "ax.scatter(psp_coord.lon.to('rad'), psp_coord.radius.to(u.AU),\n",
    "           label='PSP', lw=0.5)\n",
    "ax.scatter(solo_coord.lon.to('rad'), solo_coord.radius.to(u.AU),\n",
    "           label='Solar Orbiter', lw=0.5)\n",
    "ax.scatter(earth_coord.lon.to('rad'), earth_coord.radius.to(u.AU),\n",
    "           label='Earth', color='g')\n",
    "ax.plot(0, 0, marker='o', ms=10, color='yellow')\n",
    "\n",
    "\n",
    "# lets also get the positions over 4 days to see the perihelion of PSP\n",
    "# when plotted here, you can't see Solar Orbiter move too much (dot plotted is bigger than movement)\n",
    "psp_seq = get_horizons_coord(\"psp\", tstart+np.arange(-2, 2, 0.1)*u.day)\n",
    "solo_seq = get_horizons_coord(\"solo\", tstart + np.arange(-2, 2, 0.1)*u.day)\n",
    "for coord in [psp_seq, solo_seq]:\n",
    "    ax.plot(coord.lon.to('rad'), coord.radius.to(u.AU))\n",
    "\n",
    "ax.set_theta_zero_location(\"S\")\n",
    "ax.set_rlabel_position(90)\n",
    "ax.set_title(\"Spacecraft positions {:s}\".format(tstart.strftime(\"%Y-%m-%d\")))\n",
    "ax.legend(loc=\"upper left\")"
   ]
  },
  {
   "cell_type": "markdown",
   "id": "9ee829fb-8736-445e-80fd-c32d528dc8ef",
   "metadata": {},
   "source": [
    "## Lets look for the STIX quicklook observations to get an idea of the flare time"
   ]
  },
  {
   "cell_type": "code",
   "execution_count": null,
   "id": "427e225c-b03c-4a9e-a935-c6cfd5fb9444",
   "metadata": {},
   "outputs": [],
   "source": [
    "stix_ql_query = Fido.search(a.Time(tstart, tend), a.Instrument.stix,\n",
    "                            a.stix.DataProduct.ql_lightcurve)"
   ]
  },
  {
   "cell_type": "code",
   "execution_count": null,
   "id": "4bba4cdb-9b71-4ce7-aed7-a82df393977d",
   "metadata": {},
   "outputs": [],
   "source": [
    "Fido.fetch(stix_ql_query, path=\"./\")"
   ]
  },
  {
   "cell_type": "code",
   "execution_count": null,
   "id": "e07dea01-a255-4100-9c27-1def8d25a972",
   "metadata": {},
   "outputs": [],
   "source": [
    "stix_ts = sunpy.timeseries.TimeSeries(\"solo_L1_stix-ql-lightcurve_20220905_V01.fits\").truncate(tstart.datetime, tend.datetime)"
   ]
  },
  {
   "cell_type": "code",
   "execution_count": null,
   "id": "31accd5f-ba8f-4a21-80cc-3816aa7e6715",
   "metadata": {},
   "outputs": [],
   "source": [
    "stix_ts.plot()"
   ]
  },
  {
   "cell_type": "code",
   "execution_count": null,
   "id": "fd6a30c5-c228-4534-9052-0a5afab772d8",
   "metadata": {},
   "outputs": [],
   "source": [
    "flare_time = stix_ts.time[np.argmax(stix_ts.quantity(\"4-10 keV\"))]"
   ]
  },
  {
   "cell_type": "code",
   "execution_count": null,
   "id": "f2ee589f-1f6c-4289-81e8-c89b8ae3fae3",
   "metadata": {},
   "outputs": [],
   "source": [
    "fig, ax = plt.subplots()\n",
    "stix_ts.plot(axes=ax)\n",
    "ax.axvline(flare_time.datetime, color='r')"
   ]
  },
  {
   "cell_type": "code",
   "execution_count": null,
   "id": "e9f0f0cd-7f29-449a-b1ff-5909d9c7a939",
   "metadata": {},
   "outputs": [],
   "source": [
    "## Lets search for some EUI & PHI data for this event"
   ]
  },
  {
   "cell_type": "code",
   "execution_count": null,
   "id": "fccd6477-1f8b-4e57-8d91-87e163e9ddec",
   "metadata": {},
   "outputs": [],
   "source": [
    "eui_query = Fido.search(a.Time(tstart, tend), \n",
    "                        a.soar.Product(\"eui-fsi304-image\") |  a.soar.Product(\"eui-fsi174-image\") , \n",
    "                        a.Level(2))"
   ]
  },
  {
   "cell_type": "code",
   "execution_count": null,
   "id": "66012171-a582-4be1-965c-1f8cb941880a",
   "metadata": {},
   "outputs": [],
   "source": [
    "phi_query = Fido.search(a.Time(tstart, tend), \n",
    "                        a.Instrument.phi, a.soar.Product('phi-fdt-blos'),\n",
    "                        a.Level(2))"
   ]
  },
  {
   "cell_type": "code",
   "execution_count": null,
   "id": "2e4bfcf7-3612-44b0-aadd-13187e86976a",
   "metadata": {},
   "outputs": [],
   "source": [
    "phi_query"
   ]
  },
  {
   "cell_type": "code",
   "execution_count": null,
   "id": "5ca7cb09-e023-429b-8fed-4e213410da48",
   "metadata": {},
   "outputs": [],
   "source": [
    "downloaded_files = Fido.fetch(eui_query, phi_query, path=\"./{instrument}/{file}\")"
   ]
  },
  {
   "cell_type": "code",
   "execution_count": null,
   "id": "6642d057-fce0-47a7-a892-c027236877a2",
   "metadata": {},
   "outputs": [],
   "source": [
    "downloaded_files[10]"
   ]
  },
  {
   "cell_type": "markdown",
   "id": "bc44cb09-85fe-49c4-88fa-10607a549577",
   "metadata": {},
   "source": [
    "### Lets load the PHI data into a Map\n",
    "See Jonas Sinjan's [tutorial](https://github.com/JonasSinjan/Solar_Orbiter_PHI_Data_Tutorial/tree/main) later today"
   ]
  },
  {
   "cell_type": "code",
   "execution_count": null,
   "id": "7a087fd3-e8fe-453d-adb4-86ed60c36248",
   "metadata": {},
   "outputs": [],
   "source": [
    "phi_maps = sunpy.map.Map(\"./PHI/*.fits\")"
   ]
  },
  {
   "cell_type": "code",
   "execution_count": null,
   "id": "7fe7bf86-757f-4405-bd91-ad93040bb885",
   "metadata": {},
   "outputs": [],
   "source": [
    "len(phi_maps)"
   ]
  },
  {
   "cell_type": "code",
   "execution_count": null,
   "id": "7998279a-4c05-4896-bcca-6fafcb56786f",
   "metadata": {},
   "outputs": [],
   "source": [
    "fig = plt.figure()\n",
    "phi_maps[1].plot(vmin=-500, vmax=500)"
   ]
  },
  {
   "cell_type": "code",
   "execution_count": null,
   "id": "36cf8873-0321-46b0-9c64-283241a02972",
   "metadata": {},
   "outputs": [],
   "source": [
    "phi_maps = [m.rotate(missing=0) for m in phi_maps]"
   ]
  },
  {
   "cell_type": "code",
   "execution_count": null,
   "id": "30122247-76f4-4d60-abe6-b9105ab8e795",
   "metadata": {},
   "outputs": [],
   "source": [
    "fig = plt.figure()\n",
    "phi_maps[0].plot(vmin=-500, vmax=500)\n",
    "phi_maps[0].draw_limb()"
   ]
  },
  {
   "cell_type": "markdown",
   "id": "ad9af963-3034-4c5b-b303-42d464c75eff",
   "metadata": {},
   "source": [
    "# Lets load the EUI maps"
   ]
  },
  {
   "cell_type": "code",
   "execution_count": null,
   "id": "f89fb0cc-81f6-44d3-8ef8-97ae5c04a77b",
   "metadata": {},
   "outputs": [],
   "source": [
    "eui_maps_174 = sunpy.map.Map(\"./EUI/*fsi174*\")"
   ]
  },
  {
   "cell_type": "code",
   "execution_count": null,
   "id": "95dad098-2bc4-477f-ac61-94e9a5394d01",
   "metadata": {},
   "outputs": [],
   "source": [
    "len(eui_maps_174)"
   ]
  },
  {
   "cell_type": "code",
   "execution_count": null,
   "id": "0154cca8-9521-4885-a10d-7f0825269a1a",
   "metadata": {},
   "outputs": [],
   "source": [
    "fig = plt.figure()\n",
    "eui_maps_174[-1].plot()"
   ]
  },
  {
   "cell_type": "code",
   "execution_count": null,
   "id": "53e16a80-3ca9-48c8-a685-b3468e0c566e",
   "metadata": {},
   "outputs": [],
   "source": [
    "def make_subs(m):\n",
    "    bl = SkyCoord(-1800*u.arcsec, -1800*u.arcsec, frame=m.coordinate_frame)\n",
    "    tr = SkyCoord(1800*u.arcsec, 1800*u.arcsec, frame=m.coordinate_frame)\n",
    "    return m.submap(bl, top_right=tr).rotate(missing=0)"
   ]
  },
  {
   "cell_type": "code",
   "execution_count": null,
   "id": "47b267b2-79db-4308-8aea-306e18cd3403",
   "metadata": {},
   "outputs": [],
   "source": [
    "eui_subs_174 = sunpy.map.Map([make_subs(m) for m in eui_maps_174], sequence=True)"
   ]
  },
  {
   "cell_type": "code",
   "execution_count": null,
   "id": "d59c5ab1-3fd0-4759-b265-06ca3f5d5230",
   "metadata": {},
   "outputs": [],
   "source": [
    "fig = plt.figure()\n",
    "ani = eui_subs_174.plot()\n",
    "ani.save(\"eui_movie_174.mp4\")\n",
    "plt.close()"
   ]
  },
  {
   "cell_type": "code",
   "execution_count": null,
   "id": "988c5b5d-ae93-4bf3-afe0-0c99410b8af3",
   "metadata": {},
   "outputs": [],
   "source": [
    "fig = plt.figure()\n",
    "eui_subs_304[10].plot()"
   ]
  },
  {
   "cell_type": "markdown",
   "id": "d33b037d-b1c5-4fa9-96fb-d660e8e9f8a0",
   "metadata": {},
   "source": [
    "Lets draw a rectangle around the flaring region of interest. \n",
    "\n",
    "This can be done using [`sunpy.map.GenericMap.draw_quadrangle`](https://docs.sunpy.org/en/stable/generated/api/sunpy.map.GenericMap.html#sunpy.map.GenericMap.draw_quadrangle)"
   ]
  },
  {
   "cell_type": "code",
   "execution_count": null,
   "id": "634c43a4-6c1e-4613-abb5-dac6658dd442",
   "metadata": {},
   "outputs": [],
   "source": [
    "fig = plt.figure()\n",
    "ax = fig.add_subplot(projection=eui_subs_174[10])\n",
    "eui_subs_174[10].plot()\n",
    "eui_subs_174[10].draw_quadrangle(SkyCoord(400*u.arcsec, -750*u.arcsec, frame=eui_subs_174[10].coordinate_frame),\n",
    "                                 top_right=SkyCoord(900*u.arcsec, -400*u.arcsec, frame=eui_subs_174[10].coordinate_frame))"
   ]
  },
  {
   "cell_type": "markdown",
   "id": "adbfdac1-ae0d-4ab8-8a92-f30bf0d25619",
   "metadata": {},
   "source": [
    "# Lets see what this looks like from PSP point of view\n",
    "\n",
    "We can use the coordinates framework with sunpy to reproject images from one viewpoint to another.\n",
    "To learn more about this, check out our documentation, and also [this](https://docs.sunpy.org/en/stable/generated/gallery/map_transformations/reprojection_different_observers.html#sphx-glr-generated-gallery-map-transformations-reprojection-different-observers-py) example in the example gallery."
   ]
  },
  {
   "cell_type": "code",
   "execution_count": null,
   "id": "925255ab-bfb6-4ca9-a84d-75427da0f81c",
   "metadata": {},
   "outputs": [],
   "source": [
    "ref_coord = SkyCoord(0*u.arcsec, 0*u.arcsec,\n",
    "                     frame='helioprojective', \n",
    "                     obstime=eui_subs_174[0].date, \n",
    "                     observer=get_horizons_coord(\"psp\", eui_subs_174[0].date))\n",
    "\n",
    "# Create a FITS WCS header for the reference coordinate and frame\n",
    "header = sunpy.map.make_fitswcs_header((3000, 3000),\n",
    "                                        ref_coord,\n",
    "                                        scale=[16, 16]*u.arcsec/u.pix,\n",
    "                                      )\n",
    "\n"
   ]
  },
  {
   "cell_type": "code",
   "execution_count": null,
   "id": "aa5596aa-fd61-4413-b597-2a7812b21d81",
   "metadata": {},
   "outputs": [],
   "source": [
    "eui_subs_psp = eui_subs_174[0].reproject_to(header)"
   ]
  },
  {
   "cell_type": "code",
   "execution_count": null,
   "id": "8c6ba382-28f2-49dc-9ebf-57dc1a9f7366",
   "metadata": {},
   "outputs": [],
   "source": [
    "fig = plt.figure()\n",
    "eui_subs_psp.plot()\n",
    "eui_subs_psp.draw_limb(color='grey', lw=2, label=\"PSP limb\")\n",
    "eui_subs_174[0].draw_limb(color='red', lw=2, label=\"Solar Orbiter limb\")\n",
    "plt.legend()\n",
    "eui_subs_174[10].draw_quadrangle(SkyCoord(400*u.arcsec, -750*u.arcsec, frame=eui_subs_174[10].coordinate_frame),\n",
    "                                 top_right=SkyCoord(900*u.arcsec, -400*u.arcsec, frame=eui_subs_174[10].coordinate_frame))"
   ]
  },
  {
   "cell_type": "markdown",
   "id": "eb1651d5-7409-4948-b6d5-358ff11c8345",
   "metadata": {},
   "source": [
    "## Lets look for some in-situ data"
   ]
  },
  {
   "cell_type": "code",
   "execution_count": null,
   "id": "6d4b5d93-d133-4c5d-a557-e73108982cdf",
   "metadata": {},
   "outputs": [],
   "source": [
    "tstart_insitu = \"2022-09-04\"\n",
    "tend_insitu = \"2022-09-08\""
   ]
  },
  {
   "cell_type": "code",
   "execution_count": null,
   "id": "4e685dba-ad74-4e71-830f-6300c72c57d4",
   "metadata": {},
   "outputs": [],
   "source": [
    "res_solo_mag = Fido.search(a.Time(tstart_insitu, tend_insitu), \n",
    "                           a.cdaweb.Dataset('SOLO_L2_MAG-RTN-NORMAL-1-MINUTE'))\n",
    "f_solomag = Fido.fetch(res_solo_mag, path=\"./\")\n",
    "solo_mag = sunpy.timeseries.TimeSeries(f_solomag, concatenate=True)"
   ]
  },
  {
   "cell_type": "code",
   "execution_count": null,
   "id": "c5e1c743-90b7-47db-89c5-5a27e3bd7ff0",
   "metadata": {},
   "outputs": [],
   "source": [
    "fig = plt.figure()\n",
    "solo_mag.plot(columns=[\"B_RTN_0\", \"B_RTN_1\", \"B_RTN_2\"])"
   ]
  },
  {
   "cell_type": "code",
   "execution_count": null,
   "id": "f9834905-34c7-49ae-adad-52d2ba424e40",
   "metadata": {},
   "outputs": [],
   "source": [
    "res_solo_swa = Fido.search(a.Time(tstart_insitu, tend_insitu), \n",
    "                           a.cdaweb.Dataset.solo_l2_swa_pas_grnd_mom)\n",
    "f_soloswa = Fido.fetch(res_solo_swa, path=\"./\")\n",
    "solo_swa_pas = sunpy.timeseries.TimeSeries(f_soloswa, concatenate=True)"
   ]
  },
  {
   "cell_type": "code",
   "execution_count": null,
   "id": "9d249c66-6110-44b9-b7c5-ab36b5b80ab3",
   "metadata": {},
   "outputs": [],
   "source": [
    "solo_swa_pas.columns"
   ]
  },
  {
   "cell_type": "code",
   "execution_count": null,
   "id": "a3b6f76c-5988-4738-97c5-fb3ae121830c",
   "metadata": {},
   "outputs": [],
   "source": [
    "fig = plt.figure()\n",
    "solo_swa_pas.plot(columns=[\"N\"])"
   ]
  },
  {
   "cell_type": "code",
   "execution_count": null,
   "id": "679784bd-a907-4472-a8e5-00045b660d23",
   "metadata": {},
   "outputs": [],
   "source": [
    "fig = plt.figure()\n",
    "solo_swa_pas.plot(columns=[\"T\"])"
   ]
  },
  {
   "cell_type": "markdown",
   "id": "ed7d54b0-5908-4ee1-b897-67b30a7dd89f",
   "metadata": {},
   "source": [
    "## Lets also look for some PSP FIELDS/MAG data"
   ]
  },
  {
   "cell_type": "code",
   "execution_count": null,
   "id": "c21d4e2f-8160-43de-b3df-f6fc5e4a84ff",
   "metadata": {},
   "outputs": [],
   "source": [
    "result_psp_mag = Fido.search(a.Time(tstart_insitu, tend_insitu), \n",
    "                             a.cdaweb.Dataset.psp_fld_l2_mag_rtn_1min)\n",
    "f_mag_psp = Fido.fetch(result_psp_mag, path=\"./\")\n",
    "\n",
    "psp_mag = sunpy.timeseries.TimeSeries(f_mag_psp, concatenate=True)"
   ]
  },
  {
   "cell_type": "code",
   "execution_count": null,
   "id": "c9069076-a707-4376-be33-e1074c89f7ae",
   "metadata": {},
   "outputs": [],
   "source": [
    "clean_psp = psp_mag._data[psp_mag._data[\"psp_fld_l2_quality_flags\"].isnull()]\n",
    "psp_event = sunpy.timeseries.TimeSeries(clean_psp, psp_mag.meta, psp_mag.units)"
   ]
  },
  {
   "cell_type": "code",
   "execution_count": null,
   "id": "6c7de0cf-0785-4b4e-bddd-b8081da6bae5",
   "metadata": {},
   "outputs": [],
   "source": [
    "fig = plt.figure()\n",
    "psp_event.plot(columns=['psp_fld_l2_mag_RTN_1min_0', \n",
    "                        'psp_fld_l2_mag_RTN_1min_1',\n",
    "                        'psp_fld_l2_mag_RTN_1min_2'])"
   ]
  },
  {
   "cell_type": "markdown",
   "id": "4003743d-f7b8-4f39-8827-831f05d0a85e",
   "metadata": {},
   "source": [
    "# Lets plot all of these together"
   ]
  },
  {
   "cell_type": "code",
   "execution_count": null,
   "id": "a61a9eef-d439-4858-97f2-e11144b5c268",
   "metadata": {},
   "outputs": [],
   "source": [
    "fig, ax = plt.subplots(5, figsize=(8, 10), sharex=True)\n",
    "\n",
    "psp_event.plot(columns=['psp_fld_l2_mag_RTN_1min_0', \n",
    "                        'psp_fld_l2_mag_RTN_1min_1',\n",
    "                        'psp_fld_l2_mag_RTN_1min_2'], \n",
    "              axes=ax[0])\n",
    "solo_mag.plot(columns=['B_RTN_0', 'B_RTN_1', 'B_RTN_2'], axes=ax[1])\n",
    "solo_swa_pas.plot(columns=['T'], axes=ax[2])\n",
    "solo_swa_pas.plot(columns=['N'], axes=ax[3])\n",
    "solo_swa_pas.plot(columns=['V_RTN_0', 'V_RTN_1', 'V_RTN_2'], axes=ax[4])\n",
    "ax[4].set_xlabel(\"Time\")\n",
    "\n",
    "for aa in ax:\n",
    "    aa.legend(loc=\"lower left\")\n",
    "    # aa.axvline(flare_time.datetime, color='r')\n",
    "\n",
    "ax[0].text(0.02, 0.90, \"a. PSP FIELDS/MAG\", transform=ax[0].transAxes)\n",
    "ax[1].text(0.02, 0.90, \"b. Solar Orbiter/MAG\", transform=ax[1].transAxes)\n",
    "ax[2].text(0.02, 0.90, \"c. Solar Orbiter/SWA-PSA\", transform=ax[2].transAxes)\n",
    "ax[3].text(0.02, 0.90, \"d. Solar Orbiter/SWA-PSA\", transform=ax[3].transAxes)\n",
    "ax[4].text(0.02, 0.90, \"e. Solar Orbiter/SWA-PSA\", transform=ax[4].transAxes)\n",
    "\n",
    "plt.tight_layout()"
   ]
  },
  {
   "cell_type": "markdown",
   "id": "c616f0ea-c8e5-4c01-aabf-39a6a3af444d",
   "metadata": {},
   "source": [
    "## Lets look at WISPR data for this event!"
   ]
  },
  {
   "cell_type": "code",
   "execution_count": null,
   "id": "0638ce85-6c83-44fe-a8f7-ecbe178ccf3e",
   "metadata": {},
   "outputs": [],
   "source": [
    "res_wispr = Fido.search(a.Time(tstart, tend), \n",
    "                        a.Instrument(\"WISPR\"), a.Level(3))"
   ]
  },
  {
   "cell_type": "code",
   "execution_count": null,
   "id": "99fc3987-843b-4ddf-8361-e03c8e298072",
   "metadata": {},
   "outputs": [],
   "source": [
    "Fido.fetch(res_wispr, path=\"./{instrument}/{file}\")"
   ]
  },
  {
   "cell_type": "code",
   "execution_count": null,
   "id": "8dd8288d-2236-47d9-8f15-8f240778e810",
   "metadata": {},
   "outputs": [],
   "source": [
    "wispr_outer_maps = sunpy.map.Map(\"./WISPR/*_2222.fits\")\n",
    "wispr_inner_maps = sunpy.map.Map(\"./WISPR/*_1211.fits\")"
   ]
  },
  {
   "cell_type": "code",
   "execution_count": null,
   "id": "4740ad79-b351-4ed5-914e-986f62906692",
   "metadata": {},
   "outputs": [],
   "source": [
    "wispr_norm = ImageNormalize(stretch=PowerStretch(1/2.2))"
   ]
  },
  {
   "cell_type": "code",
   "execution_count": null,
   "id": "fd38e73e-2388-4b53-ae3a-0c5741523bcb",
   "metadata": {},
   "outputs": [],
   "source": [
    "vmax_inner = 1.545e-11\n",
    "vmax_outer = .5e-11"
   ]
  },
  {
   "cell_type": "code",
   "execution_count": null,
   "id": "fd3d9d7b-89a4-4ada-944c-7c0c3dc5bf70",
   "metadata": {},
   "outputs": [],
   "source": [
    "fig = plt.figure()\n",
    "wispr_inner_maps[0].plot(vmin=0, vmax=0.5e-11, norm=wispr_norm, cmap=\"viridis\")\n"
   ]
  },
  {
   "cell_type": "code",
   "execution_count": null,
   "id": "57c8c029-449f-42d6-bb3c-71a1849db95f",
   "metadata": {},
   "outputs": [],
   "source": [
    "fig = plt.figure()\n",
    "wispr_outer_maps[0].plot(vmin=0, vmax=0.5e-11, norm=wispr_norm, cmap=\"viridis\")"
   ]
  },
  {
   "cell_type": "code",
   "execution_count": null,
   "id": "d7b6316b-b461-4f9b-90c6-eed4a1404d52",
   "metadata": {},
   "outputs": [],
   "source": [
    "def combine_wispr_maps(inner_map, outer_map):\n",
    "    ref_coord = SkyCoord(0*u.arcsec, 0*u.arcsec, \n",
    "                         frame=frames.Helioprojective(observer=inner_map.observer_coordinate, obstime=inner_map.date))\n",
    "    \n",
    "    \n",
    "    outshape = (360*2, int(360*3.5))\n",
    "    new_header = sunpy.map.make_fitswcs_header(outshape, \n",
    "                                  ref_coord,\n",
    "                                  reference_pixel=u.Quantity([40*u.pixel, 500*u.pixel]), \n",
    "                                  scale=u.Quantity([0.1*u.deg/u.pixel, 0.1*u.deg/u.pixel]), \n",
    "                                  projection_code=\"CAR\"\n",
    "                                 )\n",
    "    \n",
    "    out_wcs = WCS(new_header)\n",
    "    with frames.Helioprojective.assume_spherical_screen(inner_map.observer_coordinate):\n",
    "        array, footprint = reproject_and_coadd((inner_map, outer_map), out_wcs, outshape,\n",
    "                                               reproject_function=reproject_interp)\n",
    "\n",
    "    combined_map = sunpy.map.Map((array, new_header))\n",
    "    combined_map.plot_settings[\"norm\"] = ImageNormalize(stretch=PowerStretch(1/2.2), vmin=0, vmax=1e-11)\n",
    "    combined_map.plot_settings[\"cmap\"] = \"viridis\"\n",
    "    return combined_map"
   ]
  },
  {
   "cell_type": "code",
   "execution_count": null,
   "id": "e98255ba-09fc-4fc4-84b7-0e53a63fad7c",
   "metadata": {},
   "outputs": [],
   "source": [
    "combined_wispr = combine_wispr_maps(wispr_inner_maps[0], wispr_outer_maps[0])"
   ]
  },
  {
   "cell_type": "code",
   "execution_count": null,
   "id": "0dce23db-cb12-4908-b420-be7caee03d7f",
   "metadata": {},
   "outputs": [],
   "source": [
    "fig = plt.figure(figsize=(10, 5))\n",
    "combined_wispr.plot(cmap=\"viridis\")\n",
    "combined_wispr.draw_limb(color='k')\n",
    "combined_wispr.draw_grid(color='k')"
   ]
  },
  {
   "cell_type": "code",
   "execution_count": null,
   "id": "726db77e-195e-41ad-853e-167fa4c27758",
   "metadata": {},
   "outputs": [],
   "source": [
    "combined_wispr_maps = sunpy.map.Map([combine_wispr_maps(wispr_inner_maps[i], wispr_outer_maps[i]) for i in range(len(wispr_inner_maps))], sequence=True)"
   ]
  },
  {
   "cell_type": "code",
   "execution_count": null,
   "id": "923b029d-af17-4c8f-92c6-4d222d8cf6a9",
   "metadata": {},
   "outputs": [],
   "source": [
    "fig = plt.figure(figsize=(10, 5))\n",
    "ax = fig.add_subplot(projection=combined_wispr_maps[0])\n",
    "ani = combined_wispr_maps.plot(norm=ImageNormalize(stretch=PowerStretch(1./2.2), vmin=0, vmax=1e-11), cmap=\"viridis\", axes=ax)\n",
    "combined_wispr_maps[0].draw_limb(color='k')\n",
    "# ani.save(\"wispr_movie.mp4\")\n",
    "plt.close()"
   ]
  },
  {
   "cell_type": "markdown",
   "id": "ed30cfab-015b-45a6-8a05-b29e853c3fce",
   "metadata": {},
   "source": [
    "# Calculate light travel time between WISPR maps and EUI map times\n",
    "\n",
    "Lets try plot the EUI and WISPR maps on the same figure. However we need to take into account light travel time, as PSP is much closer in that Solar Orbiter. \n",
    "This is something that will also need to be taken into account in other studies when comparing Solar Orbiter with Earth-based observatories such as SDO/AIA etc. "
   ]
  },
  {
   "cell_type": "markdown",
   "id": "5c5e5911-2a76-4b01-ab3a-278341882b1b",
   "metadata": {},
   "source": [
    "Lets first get the times of each of the maps"
   ]
  },
  {
   "cell_type": "code",
   "execution_count": null,
   "id": "909e61ab-f8fa-41a5-a5a3-376dfeeb8ba7",
   "metadata": {},
   "outputs": [],
   "source": [
    "wispr_map_times = Time([m.date for m in combined_wispr_maps])\n",
    "eui_map_times = Time([m.date for m in eui_subs_174])"
   ]
  },
  {
   "cell_type": "markdown",
   "id": "685a164c-7d06-4f2b-85af-7168326dcb62",
   "metadata": {},
   "source": [
    "Now lets get the coordinates of Solar Orbiter at the times of the WISPR maps"
   ]
  },
  {
   "cell_type": "code",
   "execution_count": null,
   "id": "d1fa9c0b-97cb-4bf9-a32f-f36dce035149",
   "metadata": {},
   "outputs": [],
   "source": [
    "solo_coords_at_psp_times = get_horizons_coord(\"solo\", wispr_map_times)"
   ]
  },
  {
   "cell_type": "markdown",
   "id": "20d50901-773a-43ef-9ee9-b45ffdd42acd",
   "metadata": {},
   "source": [
    "Calculate the light travel time - we can do this by diving the distance by travel time (i.e. speed of light)"
   ]
  },
  {
   "cell_type": "code",
   "execution_count": null,
   "id": "4bc66a4b-28bb-4fd9-b9c8-80c3fd69a399",
   "metadata": {},
   "outputs": [],
   "source": [
    "((solo_coords_at_psp_times[0].radius - combined_wispr_maps[0].observer_coordinate.radius)/const.c).to(u.s)"
   ]
  },
  {
   "cell_type": "markdown",
   "id": "3afe2a10-9e9f-448b-942b-586eb776c9b5",
   "metadata": {},
   "source": [
    "Lets calculate it for each map - you could just use the one time but as PSP is moving quite fast, lets do it for each frame"
   ]
  },
  {
   "cell_type": "code",
   "execution_count": null,
   "id": "14934912-f564-45b6-9a43-7454df925611",
   "metadata": {},
   "outputs": [],
   "source": [
    "psp_times_at_solo = [((solo_coords_at_psp_times[i].radius - combined_wispr_maps[i].observer_coordinate.radius)/const.c).to(u.s) for i in range(len(combined_wispr_maps))]"
   ]
  },
  {
   "cell_type": "markdown",
   "id": "31d170b8-a340-4b1f-9f57-42b497424556",
   "metadata": {},
   "source": [
    "So the time at Solar Orbiter at each WISPR map times is the PSP time + light travel time"
   ]
  },
  {
   "cell_type": "code",
   "execution_count": null,
   "id": "d9bfd27b-ad89-4a5e-a9b0-232f4d3579b1",
   "metadata": {},
   "outputs": [],
   "source": [
    "wispr_map_times[11]+psp_times_at_solo[11]"
   ]
  },
  {
   "cell_type": "markdown",
   "id": "ae0501ce-e899-429f-96ed-3104ada92141",
   "metadata": {},
   "source": [
    "Lets find the EUI map index that has the closest time as this"
   ]
  },
  {
   "cell_type": "code",
   "execution_count": null,
   "id": "12b1d690-3bed-4355-85c8-05884957909b",
   "metadata": {},
   "outputs": [],
   "source": [
    "np.argmin(np.abs(eui_map_times - (wispr_map_times[10]+psp_times_at_solo[10])))"
   ]
  },
  {
   "cell_type": "code",
   "execution_count": null,
   "id": "68a69c37-6ca1-4edc-be50-f1a632c8626a",
   "metadata": {},
   "outputs": [],
   "source": [
    "fig = plt.figure()\n",
    "eui_subs_174[15].plot()"
   ]
  },
  {
   "cell_type": "markdown",
   "id": "8fa8cbd7-58ab-477c-9f7b-ad2001974ca8",
   "metadata": {},
   "source": [
    "We can reproject the EUI map at this time to the WCS of the combined WISPR map"
   ]
  },
  {
   "cell_type": "code",
   "execution_count": null,
   "id": "c902d713-b0a4-4932-b3d2-15d227243f9a",
   "metadata": {},
   "outputs": [],
   "source": [
    "reprojected_eui =eui_subs_174[15].reproject_to(combined_wispr_maps[11].wcs)"
   ]
  },
  {
   "cell_type": "code",
   "execution_count": null,
   "id": "30690461-7677-4d98-ac9e-e80d43a617be",
   "metadata": {},
   "outputs": [],
   "source": [
    "fig = plt.figure(figsize=(10, 5))\n",
    "ax = fig.add_subplot(projection=combined_wispr_maps[11])\n",
    "combined_wispr_maps[11].plot(norm=ImageNormalize(stretch=PowerStretch(1./2.2), vmin=0, vmax=1e-11), cmap=\"viridis\")\n",
    "reprojected_eui.plot()\n",
    "reprojected_eui.draw_limb(color='k')\n",
    "eui_subs_174[10].draw_quadrangle(SkyCoord(400*u.arcsec, -750*u.arcsec, frame=eui_subs_174[10].coordinate_frame),\n",
    "                                 top_right=SkyCoord(900*u.arcsec, -400*u.arcsec, frame=eui_subs_174[10].coordinate_frame))"
   ]
  },
  {
   "cell_type": "markdown",
   "id": "71523b7c-1cfb-49cf-81e7-b5081e51377a",
   "metadata": {},
   "source": [
    "Make Carrington Map"
   ]
  },
  {
   "cell_type": "code",
   "execution_count": null,
   "id": "ab61d997-f4c3-4acd-84a9-543f2828b9af",
   "metadata": {},
   "outputs": [],
   "source": [
    "shape = (720, 1440)\n",
    "carr_header = sunpy.map.make_heliographic_header(eui_subs_174[0].date, eui_subs_174[0].observer_coordinate, shape, frame='carrington')"
   ]
  },
  {
   "cell_type": "code",
   "execution_count": null,
   "id": "9f19c37d-fd0f-4fe2-ae19-96f97e5069ed",
   "metadata": {},
   "outputs": [],
   "source": [
    "eui_car_map = eui_subs_174[0].reproject_to(carr_header)"
   ]
  },
  {
   "cell_type": "code",
   "execution_count": null,
   "id": "1bcc8952-4607-4bf0-adee-77de4d4766e1",
   "metadata": {},
   "outputs": [],
   "source": [
    "fig = plt.figure()\n",
    "eui_car_map.plot()\n",
    "eui_car_map.draw_limb(color='k')"
   ]
  },
  {
   "cell_type": "code",
   "execution_count": null,
   "id": "822867b0-1b3e-445a-b1ff-47e28b8007e9",
   "metadata": {},
   "outputs": [],
   "source": []
  }
 ],
 "metadata": {
  "kernelspec": {
   "display_name": "Python 3 (ipykernel)",
   "language": "python",
   "name": "python3"
  },
  "language_info": {
   "codemirror_mode": {
    "name": "ipython",
    "version": 3
   },
   "file_extension": ".py",
   "mimetype": "text/x-python",
   "name": "python",
   "nbconvert_exporter": "python",
   "pygments_lexer": "ipython3",
   "version": "3.11.3"
  }
 },
 "nbformat": 4,
 "nbformat_minor": 5
}
